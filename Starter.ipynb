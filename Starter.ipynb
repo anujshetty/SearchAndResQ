{
  "cells": [
    {
      "cell_type": "markdown",
      "metadata": {
        "id": "view-in-github",
        "colab_type": "text"
      },
      "source": [
        "<a href=\"https://colab.research.google.com/github/anujshetty/SearchAndResQ/blob/main/Starter.ipynb\" target=\"_parent\"><img src=\"https://colab.research.google.com/assets/colab-badge.svg\" alt=\"Open In Colab\"/></a>"
      ]
    },
    {
      "cell_type": "code",
      "execution_count": 36,
      "metadata": {
        "id": "jQiZSy52IJhM",
        "colab": {
          "base_uri": "https://localhost:8080/"
        },
        "outputId": "2a936adc-498d-4d48-c8e8-4e1d369ef5e6"
      },
      "outputs": [
        {
          "output_type": "stream",
          "name": "stdout",
          "text": [
            "The autoreload extension is already loaded. To reload it, use:\n",
            "  %reload_ext autoreload\n"
          ]
        }
      ],
      "source": [
        "%load_ext autoreload\n",
        "%autoreload 2\n",
        "%matplotlib inline\n",
        "import time"
      ]
    },
    {
      "cell_type": "code",
      "execution_count": 109,
      "metadata": {
        "id": "sE0v64_xIJhQ"
      },
      "outputs": [],
      "source": [
        "import numpy as np\n",
        "import random\n",
        "import matplotlib.pyplot as plt\n",
        "from IPython import display\n",
        "from matplotlib.colors import ListedColormap\n",
        "\n",
        "from Gridworld import Gridworld\n",
        "from utils import visualize_grid, policy_score, simulate_policy\n",
        "from __future__ import unicode_literals\n",
        "from Learning import QLearning, EpsilonGreedyExploration, FixedPolicy, ValueIteration\n"
      ]
    },
    {
      "cell_type": "code",
      "execution_count": 150,
      "metadata": {
        "id": "QkUqQa5VIJhS",
        "colab": {
          "base_uri": "https://localhost:8080/",
          "height": 304
        },
        "outputId": "51a41019-88c6-4dee-b464-2cc0a19727dc"
      },
      "outputs": [
        {
          "output_type": "stream",
          "name": "stdout",
          "text": [
            "max residual :  49.99999990796704 | max iterations :  10000\n",
            "Not converged, max iteration reached\n"
          ]
        },
        {
          "output_type": "display_data",
          "data": {
            "text/plain": [
              "<Figure size 432x288 with 1 Axes>"
            ],
            "image/png": "[encoded data removed]"
          },
          "metadata": {
            "needs_background": "light"
          }
        }
      ],
      "source": [
        "g_rand = Gridworld(gridworld_length=2, gridworld_width=2, num_obstacles=0,\n",
        "                 collisionReward= -1, destinationReward= 5, defaultReward= 0, outOfBoundsReward = -1, \n",
        "                 failChance= 0.1, gamma= 0.95)\n",
        "#eps_greedy_policy =  EpsilonGreedyExploration(0.6, alpha=0.9)\n",
        "#qlearning_model = QLearning(g_rand, 0.2)\n",
        "offline_policy = ValueIteration(g_rand, gamma=0.9, residual = 0.01, maxIter = 10000)\n",
        "#print(qlearning_model.Q.shape)\n",
        "visualize_grid(g_rand)\n",
        "#print(g_rand.state)"
      ]
    },
    {
      "cell_type": "code",
      "source": [
        "#print(offline_policy.U)\n",
        "print(offline_policy.policy)\n"
      ],
      "metadata": {
        "colab": {
          "base_uri": "https://localhost:8080/"
        },
        "id": "MznTngkYtSCs",
        "outputId": "b6f300f9-b94f-4414-ea11-509f83e9e7cd"
      },
      "execution_count": 149,
      "outputs": [
        {
          "output_type": "stream",
          "name": "stdout",
          "text": [
            "[[[[[[0. 0. 3.]\n",
            "     [0. 1. 0.]\n",
            "     [0. 0. 0.]]\n",
            "\n",
            "    [[0. 3. 4.]\n",
            "     [0. 0. 0.]\n",
            "     [0. 0. 0.]]\n",
            "\n",
            "    [[3. 0. 5.]\n",
            "     [0. 0. 4.]\n",
            "     [5. 0. 0.]]]\n",
            "\n",
            "\n",
            "   [[[0. 0. 0.]\n",
            "     [0. 0. 3.]\n",
            "     [0. 0. 0.]]\n",
            "\n",
            "    [[3. 0. 0.]\n",
            "     [0. 0. 0.]\n",
            "     [0. 0. 4.]]\n",
            "\n",
            "    [[0. 0. 0.]\n",
            "     [0. 0. 0.]\n",
            "     [4. 0. 0.]]]\n",
            "\n",
            "\n",
            "   [[[0. 0. 0.]\n",
            "     [0. 0. 0.]\n",
            "     [0. 0. 0.]]\n",
            "\n",
            "    [[0. 3. 0.]\n",
            "     [0. 0. 0.]\n",
            "     [1. 3. 3.]]\n",
            "\n",
            "    [[2. 0. 0.]\n",
            "     [0. 0. 0.]\n",
            "     [4. 0. 0.]]]\n",
            "\n",
            "\n",
            "   [[[0. 2. 4.]\n",
            "     [4. 0. 0.]\n",
            "     [3. 0. 3.]]\n",
            "\n",
            "    [[0. 3. 0.]\n",
            "     [0. 0. 5.]\n",
            "     [0. 0. 0.]]\n",
            "\n",
            "    [[0. 0. 2.]\n",
            "     [0. 0. 0.]\n",
            "     [0. 0. 0.]]]]\n",
            "\n",
            "\n",
            "\n",
            "  [[[[0. 0. 0.]\n",
            "     [0. 0. 0.]\n",
            "     [0. 0. 0.]]\n",
            "\n",
            "    [[0. 0. 0.]\n",
            "     [0. 0. 0.]\n",
            "     [0. 5. 0.]]\n",
            "\n",
            "    [[0. 0. 0.]\n",
            "     [0. 0. 0.]\n",
            "     [0. 0. 0.]]]\n",
            "\n",
            "\n",
            "   [[[0. 0. 0.]\n",
            "     [0. 0. 0.]\n",
            "     [0. 0. 0.]]\n",
            "\n",
            "    [[0. 0. 0.]\n",
            "     [0. 0. 0.]\n",
            "     [0. 0. 0.]]\n",
            "\n",
            "    [[0. 0. 0.]\n",
            "     [4. 0. 0.]\n",
            "     [0. 0. 0.]]]\n",
            "\n",
            "\n",
            "   [[[0. 0. 0.]\n",
            "     [0. 0. 0.]\n",
            "     [0. 0. 0.]]\n",
            "\n",
            "    [[0. 0. 0.]\n",
            "     [0. 0. 0.]\n",
            "     [0. 0. 0.]]\n",
            "\n",
            "    [[0. 0. 0.]\n",
            "     [0. 0. 0.]\n",
            "     [0. 0. 0.]]]\n",
            "\n",
            "\n",
            "   [[[0. 0. 0.]\n",
            "     [0. 0. 0.]\n",
            "     [0. 0. 0.]]\n",
            "\n",
            "    [[0. 0. 0.]\n",
            "     [0. 0. 0.]\n",
            "     [0. 0. 0.]]\n",
            "\n",
            "    [[2. 0. 0.]\n",
            "     [0. 0. 0.]\n",
            "     [0. 0. 0.]]]]]\n",
            "\n",
            "\n",
            "\n",
            "\n",
            " [[[[[2. 2. 2.]\n",
            "     [2. 2. 2.]\n",
            "     [2. 2. 2.]]\n",
            "\n",
            "    [[2. 2. 2.]\n",
            "     [2. 2. 2.]\n",
            "     [2. 3. 2.]]\n",
            "\n",
            "    [[4. 2. 2.]\n",
            "     [2. 0. 2.]\n",
            "     [2. 2. 2.]]]\n",
            "\n",
            "\n",
            "   [[[2. 2. 2.]\n",
            "     [2. 2. 2.]\n",
            "     [2. 4. 4.]]\n",
            "\n",
            "    [[2. 2. 2.]\n",
            "     [2. 2. 2.]\n",
            "     [4. 2. 2.]]\n",
            "\n",
            "    [[2. 5. 2.]\n",
            "     [4. 4. 2.]\n",
            "     [2. 0. 2.]]]\n",
            "\n",
            "\n",
            "   [[[2. 2. 2.]\n",
            "     [2. 2. 2.]\n",
            "     [4. 2. 2.]]\n",
            "\n",
            "    [[2. 2. 2.]\n",
            "     [2. 2. 2.]\n",
            "     [2. 2. 2.]]\n",
            "\n",
            "    [[2. 2. 2.]\n",
            "     [2. 2. 2.]\n",
            "     [2. 2. 2.]]]\n",
            "\n",
            "\n",
            "   [[[2. 2. 2.]\n",
            "     [2. 2. 4.]\n",
            "     [2. 2. 2.]]\n",
            "\n",
            "    [[2. 5. 2.]\n",
            "     [2. 1. 2.]\n",
            "     [2. 2. 2.]]\n",
            "\n",
            "    [[2. 2. 2.]\n",
            "     [2. 2. 2.]\n",
            "     [2. 2. 2.]]]]\n",
            "\n",
            "\n",
            "\n",
            "  [[[[0. 2. 0.]\n",
            "     [0. 0. 0.]\n",
            "     [0. 0. 0.]]\n",
            "\n",
            "    [[0. 0. 2.]\n",
            "     [0. 2. 0.]\n",
            "     [2. 0. 2.]]\n",
            "\n",
            "    [[0. 0. 2.]\n",
            "     [2. 2. 0.]\n",
            "     [0. 0. 2.]]]\n",
            "\n",
            "\n",
            "   [[[2. 2. 0.]\n",
            "     [0. 0. 0.]\n",
            "     [0. 0. 2.]]\n",
            "\n",
            "    [[0. 2. 0.]\n",
            "     [0. 2. 0.]\n",
            "     [2. 0. 0.]]\n",
            "\n",
            "    [[2. 2. 0.]\n",
            "     [0. 0. 0.]\n",
            "     [0. 2. 0.]]]\n",
            "\n",
            "\n",
            "   [[[2. 0. 0.]\n",
            "     [0. 0. 0.]\n",
            "     [2. 0. 0.]]\n",
            "\n",
            "    [[0. 0. 0.]\n",
            "     [0. 0. 0.]\n",
            "     [0. 0. 0.]]\n",
            "\n",
            "    [[0. 2. 0.]\n",
            "     [2. 2. 0.]\n",
            "     [0. 0. 0.]]]\n",
            "\n",
            "\n",
            "   [[[2. 0. 0.]\n",
            "     [0. 0. 0.]\n",
            "     [2. 0. 0.]]\n",
            "\n",
            "    [[0. 0. 0.]\n",
            "     [0. 0. 0.]\n",
            "     [2. 0. 2.]]\n",
            "\n",
            "    [[0. 0. 0.]\n",
            "     [2. 2. 0.]\n",
            "     [2. 0. 2.]]]]]]\n"
          ]
        }
      ]
    },
    {
      "cell_type": "code",
      "execution_count": 15,
      "metadata": {
        "colab": {
          "base_uri": "https://localhost:8080/",
          "height": 269
        },
        "id": "D_twHt5J-FOT",
        "outputId": "ac2ae43d-b447-4e6b-cb88-1258dd196ac6"
      },
      "outputs": [
        {
          "output_type": "display_data",
          "data": {
            "text/plain": [
              "<Figure size 432x288 with 1 Axes>"
            ],
            "image/png": "[encoded data removed]"
          },
          "metadata": {
            "needs_background": "light"
          }
        }
      ],
      "source": [
        "g_rand.reset_position()\n",
        "visualize_grid(g_rand)"
      ]
    },
    {
      "cell_type": "code",
      "execution_count": 16,
      "metadata": {
        "id": "_PdiRkzlIJhT",
        "colab": {
          "base_uri": "https://localhost:8080/",
          "height": 269
        },
        "outputId": "0fa10099-b8cf-4ef6-b863-49eace2e47d3"
      },
      "outputs": [
        {
          "output_type": "display_data",
          "data": {
            "text/plain": [
              "<Figure size 432x288 with 1 Axes>"
            ],
            "image/png": "[encoded data removed]"
          },
          "metadata": {
            "needs_background": "light"
          }
        }
      ],
      "source": [
        "#for i in range(100000):\n",
        "#    g_rand.reset_position()\n",
        "#    simulate_policy(g_rand, policy_type=\"epsilon-greedy\", model=qlearning_model, policy=eps_greedy_policy, \n",
        "#                    run_to_completion=False, num_iters=50, visualize=False)\n",
        "visualize_grid(g_rand)"
      ]
    },
    {
      "cell_type": "code",
      "execution_count": 17,
      "metadata": {
        "id": "PtVKjjkKIJhU"
      },
      "outputs": [],
      "source": [
        "learned_policy = FixedPolicy(qlearning_model.extract_policy(), g_rand,qlearning_model)\n",
        "print(learned_policy.policy)"
      ]
    },
    {
      "cell_type": "code",
      "execution_count": 18,
      "metadata": {
        "id": "C6ZkTuuhIJhU"
      },
      "outputs": [],
      "source": [
        "# reset agent position in existing grid\n",
        "g_rand.reset_position()"
      ]
    },
    {
      "cell_type": "code",
      "execution_count": 19,
      "metadata": {
        "id": "pOXrZrkyIJhV",
        "outputId": "ed9d083c-9069-458d-8ad3-d0fce73c26f5",
        "colab": {
          "base_uri": "https://localhost:8080/",
          "height": 269
        }
      },
      "outputs": [
        {
          "output_type": "display_data",
          "data": {
            "text/plain": [
              "<Figure size 432x288 with 1 Axes>"
            ],
            "image/png": "[encoded data removed]"
          },
          "metadata": {
            "needs_background": "light"
          }
        }
      ],
      "source": [
        "visualize_grid(g_rand)"
      ]
    },
    {
      "cell_type": "code",
      "execution_count": 143,
      "metadata": {
        "id": "s63AtAPoIJhV",
        "outputId": "b6d04b27-c2e5-467e-b65d-e0db45d7c6d7",
        "colab": {
          "base_uri": "https://localhost:8080/",
          "height": 502
        }
      },
      "outputs": [
        {
          "output_type": "error",
          "ename": "TypeError",
          "evalue": "ignored",
          "traceback": [
            "\u001b[0;31m---------------------------------------------------------------------------\u001b[0m",
            "\u001b[0;31mTypeError\u001b[0m                                 Traceback (most recent call last)",
            "\u001b[0;32m<ipython-input-143-ca77508c121c>\u001b[0m in \u001b[0;36m<module>\u001b[0;34m\u001b[0m\n\u001b[1;32m      1\u001b[0m \u001b[0;31m#policy_score_learned = simulate_policy(g_rand, policy_type=\"fixed\", model=None, policy=learned_policy, run_to_completion=True)\u001b[0m\u001b[0;34m\u001b[0m\u001b[0;34m\u001b[0m\u001b[0m\n\u001b[0;32m----> 2\u001b[0;31m \u001b[0mpolicy_score_learned\u001b[0m \u001b[0;34m=\u001b[0m \u001b[0msimulate_policy\u001b[0m\u001b[0;34m(\u001b[0m\u001b[0mg_rand\u001b[0m\u001b[0;34m,\u001b[0m \u001b[0mpolicy_type\u001b[0m\u001b[0;34m=\u001b[0m\u001b[0;34m\"offline\"\u001b[0m\u001b[0;34m,\u001b[0m \u001b[0mmodel\u001b[0m\u001b[0;34m=\u001b[0m\u001b[0moffline_policy\u001b[0m\u001b[0;34m,\u001b[0m \u001b[0mpolicy\u001b[0m\u001b[0;34m=\u001b[0m\u001b[0;32mNone\u001b[0m\u001b[0;34m,\u001b[0m \u001b[0mrun_to_completion\u001b[0m\u001b[0;34m=\u001b[0m\u001b[0;32mTrue\u001b[0m\u001b[0;34m)\u001b[0m\u001b[0;34m\u001b[0m\u001b[0;34m\u001b[0m\u001b[0m\n\u001b[0m",
            "\u001b[0;32m/content/utils.py\u001b[0m in \u001b[0;36msimulate_policy\u001b[0;34m(g, policy_type, run_to_completion, num_iters, policy, model, visualize)\u001b[0m\n\u001b[1;32m    118\u001b[0m             \u001b[0mmodel\u001b[0m\u001b[0;34m.\u001b[0m\u001b[0mupdate\u001b[0m\u001b[0;34m(\u001b[0m\u001b[0morig_state\u001b[0m\u001b[0;34m,\u001b[0m \u001b[0maction\u001b[0m\u001b[0;34m,\u001b[0m \u001b[0mreward\u001b[0m\u001b[0;34m,\u001b[0m \u001b[0mg\u001b[0m\u001b[0;34m.\u001b[0m\u001b[0mstate\u001b[0m\u001b[0;34m)\u001b[0m\u001b[0;34m\u001b[0m\u001b[0;34m\u001b[0m\u001b[0m\n\u001b[1;32m    119\u001b[0m \u001b[0;34m\u001b[0m\u001b[0m\n\u001b[0;32m--> 120\u001b[0;31m     \u001b[0;32mwhile\u001b[0m \u001b[0mg\u001b[0m\u001b[0;34m.\u001b[0m\u001b[0mgetCoords\u001b[0m\u001b[0;34m(\u001b[0m\u001b[0;34m)\u001b[0m \u001b[0;34m!=\u001b[0m \u001b[0mg\u001b[0m\u001b[0;34m.\u001b[0m\u001b[0mdestination\u001b[0m\u001b[0;34m:\u001b[0m\u001b[0;34m\u001b[0m\u001b[0;34m\u001b[0m\u001b[0m\n\u001b[0m\u001b[1;32m    121\u001b[0m         \u001b[0msimulate_iteration\u001b[0m\u001b[0;34m(\u001b[0m\u001b[0mrewards\u001b[0m\u001b[0;34m)\u001b[0m\u001b[0;34m\u001b[0m\u001b[0;34m\u001b[0m\u001b[0m\n\u001b[1;32m    122\u001b[0m         \u001b[0;32mif\u001b[0m \u001b[0;32mnot\u001b[0m \u001b[0mrun_to_completion\u001b[0m \u001b[0;32mand\u001b[0m \u001b[0mlen\u001b[0m\u001b[0;34m(\u001b[0m\u001b[0mrewards\u001b[0m\u001b[0;34m)\u001b[0m \u001b[0;34m>=\u001b[0m \u001b[0mnum_iters\u001b[0m\u001b[0;34m:\u001b[0m\u001b[0;34m\u001b[0m\u001b[0;34m\u001b[0m\u001b[0m\n",
            "\u001b[0;32m/content/Gridworld.py\u001b[0m in \u001b[0;36mgetCoords\u001b[0;34m(self)\u001b[0m\n\u001b[1;32m     36\u001b[0m \u001b[0;34m\u001b[0m\u001b[0m\n\u001b[1;32m     37\u001b[0m     \u001b[0;32mdef\u001b[0m \u001b[0mgetCoords\u001b[0m\u001b[0;34m(\u001b[0m\u001b[0mself\u001b[0m\u001b[0;34m)\u001b[0m\u001b[0;34m:\u001b[0m\u001b[0;34m\u001b[0m\u001b[0;34m\u001b[0m\u001b[0m\n\u001b[0;32m---> 38\u001b[0;31m         \u001b[0;32mreturn\u001b[0m \u001b[0mself\u001b[0m\u001b[0;34m.\u001b[0m\u001b[0mstate\u001b[0m\u001b[0;34m[\u001b[0m\u001b[0;34m:\u001b[0m\u001b[0;36m2\u001b[0m\u001b[0;34m]\u001b[0m\u001b[0;34m\u001b[0m\u001b[0;34m\u001b[0m\u001b[0m\n\u001b[0m\u001b[1;32m     39\u001b[0m \u001b[0;34m\u001b[0m\u001b[0m\n\u001b[1;32m     40\u001b[0m     \u001b[0;32mdef\u001b[0m \u001b[0mgetOrientation\u001b[0m\u001b[0;34m(\u001b[0m\u001b[0mself\u001b[0m\u001b[0;34m)\u001b[0m\u001b[0;34m:\u001b[0m\u001b[0;34m\u001b[0m\u001b[0;34m\u001b[0m\u001b[0m\n",
            "\u001b[0;31mTypeError\u001b[0m: 'NoneType' object is not subscriptable"
          ]
        }
      ],
      "source": [
        "#policy_score_learned = simulate_policy(g_rand, policy_type=\"fixed\", model=None, policy=learned_policy, run_to_completion=True)\n",
        "policy_score_learned = simulate_policy(g_rand, policy_type=\"offline\", model=offline_policy, policy=None, run_to_completion=True)"
      ]
    },
    {
      "cell_type": "code",
      "execution_count": 144,
      "metadata": {
        "id": "KrDbSI4OIJhW",
        "outputId": "6d41cf5f-eafb-4bbf-98b0-eadcf5f61b9d",
        "colab": {
          "base_uri": "https://localhost:8080/",
          "height": 311
        }
      },
      "outputs": [
        {
          "output_type": "error",
          "ename": "TypeError",
          "evalue": "ignored",
          "traceback": [
            "\u001b[0;31m---------------------------------------------------------------------------\u001b[0m",
            "\u001b[0;31mTypeError\u001b[0m                                 Traceback (most recent call last)",
            "\u001b[0;32m<ipython-input-144-d93d5ffb4853>\u001b[0m in \u001b[0;36m<module>\u001b[0;34m\u001b[0m\n\u001b[0;32m----> 1\u001b[0;31m \u001b[0mvisualize_grid\u001b[0m\u001b[0;34m(\u001b[0m\u001b[0mg_rand\u001b[0m\u001b[0;34m)\u001b[0m\u001b[0;34m\u001b[0m\u001b[0;34m\u001b[0m\u001b[0m\n\u001b[0m",
            "\u001b[0;32m/content/utils.py\u001b[0m in \u001b[0;36mvisualize_grid\u001b[0;34m(g)\u001b[0m\n\u001b[1;32m     45\u001b[0m     \u001b[0mVisualize\u001b[0m \u001b[0ma\u001b[0m \u001b[0;36m2\u001b[0m\u001b[0mD\u001b[0m \u001b[0mgrid\u001b[0m \u001b[0mof\u001b[0m \u001b[0mcharacters\u001b[0m \u001b[0;32min\u001b[0m \u001b[0mmatplotlib\u001b[0m \u001b[0;32mwith\u001b[0m \u001b[0memojis\u001b[0m\u001b[0;34m\u001b[0m\u001b[0;34m\u001b[0m\u001b[0m\n\u001b[1;32m     46\u001b[0m     \"\"\"\n\u001b[0;32m---> 47\u001b[0;31m     \u001b[0mchar_grid\u001b[0m \u001b[0;34m=\u001b[0m \u001b[0mg\u001b[0m\u001b[0;34m.\u001b[0m\u001b[0mgridworld_to_arr\u001b[0m\u001b[0;34m(\u001b[0m\u001b[0;34m)\u001b[0m\u001b[0;34m\u001b[0m\u001b[0;34m\u001b[0m\u001b[0m\n\u001b[0m\u001b[1;32m     48\u001b[0m     \u001b[0mcolors\u001b[0m \u001b[0;34m=\u001b[0m \u001b[0;34m[\u001b[0m\u001b[0;34m'saddlebrown'\u001b[0m\u001b[0;34m,\u001b[0m \u001b[0;34m'red'\u001b[0m\u001b[0;34m,\u001b[0m \u001b[0;34m'green'\u001b[0m\u001b[0;34m,\u001b[0m \u001b[0;34m'yellow'\u001b[0m\u001b[0;34m]\u001b[0m\u001b[0;34m\u001b[0m\u001b[0;34m\u001b[0m\u001b[0m\n\u001b[1;32m     49\u001b[0m     \u001b[0mcmap\u001b[0m \u001b[0;34m=\u001b[0m \u001b[0mListedColormap\u001b[0m\u001b[0;34m(\u001b[0m\u001b[0mcolors\u001b[0m\u001b[0;34m)\u001b[0m\u001b[0;34m\u001b[0m\u001b[0;34m\u001b[0m\u001b[0m\n",
            "\u001b[0;32m/content/Gridworld.py\u001b[0m in \u001b[0;36mgridworld_to_arr\u001b[0;34m(self)\u001b[0m\n\u001b[1;32m    149\u001b[0m                 \u001b[0;32melif\u001b[0m \u001b[0;34m[\u001b[0m\u001b[0mrow\u001b[0m\u001b[0;34m,\u001b[0m\u001b[0mcol\u001b[0m\u001b[0;34m]\u001b[0m \u001b[0;34m==\u001b[0m \u001b[0mself\u001b[0m\u001b[0;34m.\u001b[0m\u001b[0mdestination\u001b[0m\u001b[0;34m:\u001b[0m\u001b[0;34m\u001b[0m\u001b[0;34m\u001b[0m\u001b[0m\n\u001b[1;32m    150\u001b[0m                     \u001b[0mchar_grid\u001b[0m\u001b[0;34m[\u001b[0m\u001b[0mrow\u001b[0m\u001b[0;34m,\u001b[0m \u001b[0mcol\u001b[0m\u001b[0;34m]\u001b[0m \u001b[0;34m=\u001b[0m \u001b[0;34m'D'\u001b[0m\u001b[0;34m\u001b[0m\u001b[0;34m\u001b[0m\u001b[0m\n\u001b[0;32m--> 151\u001b[0;31m                 \u001b[0;32melif\u001b[0m \u001b[0;34m[\u001b[0m\u001b[0mrow\u001b[0m\u001b[0;34m,\u001b[0m \u001b[0mcol\u001b[0m\u001b[0;34m]\u001b[0m \u001b[0;34m==\u001b[0m \u001b[0mself\u001b[0m\u001b[0;34m.\u001b[0m\u001b[0mgetCoords\u001b[0m\u001b[0;34m(\u001b[0m\u001b[0;34m)\u001b[0m\u001b[0;34m:\u001b[0m\u001b[0;34m\u001b[0m\u001b[0;34m\u001b[0m\u001b[0m\n\u001b[0m\u001b[1;32m    152\u001b[0m                     \u001b[0mchar_grid\u001b[0m\u001b[0;34m[\u001b[0m\u001b[0mrow\u001b[0m\u001b[0;34m,\u001b[0m \u001b[0mcol\u001b[0m\u001b[0;34m]\u001b[0m \u001b[0;34m=\u001b[0m \u001b[0;34m'A'\u001b[0m\u001b[0;34m\u001b[0m\u001b[0;34m\u001b[0m\u001b[0m\n\u001b[1;32m    153\u001b[0m                 \u001b[0;32melse\u001b[0m\u001b[0;34m:\u001b[0m\u001b[0;34m\u001b[0m\u001b[0;34m\u001b[0m\u001b[0m\n",
            "\u001b[0;32m/content/Gridworld.py\u001b[0m in \u001b[0;36mgetCoords\u001b[0;34m(self)\u001b[0m\n\u001b[1;32m     36\u001b[0m \u001b[0;34m\u001b[0m\u001b[0m\n\u001b[1;32m     37\u001b[0m     \u001b[0;32mdef\u001b[0m \u001b[0mgetCoords\u001b[0m\u001b[0;34m(\u001b[0m\u001b[0mself\u001b[0m\u001b[0;34m)\u001b[0m\u001b[0;34m:\u001b[0m\u001b[0;34m\u001b[0m\u001b[0;34m\u001b[0m\u001b[0m\n\u001b[0;32m---> 38\u001b[0;31m         \u001b[0;32mreturn\u001b[0m \u001b[0mself\u001b[0m\u001b[0;34m.\u001b[0m\u001b[0mstate\u001b[0m\u001b[0;34m[\u001b[0m\u001b[0;34m:\u001b[0m\u001b[0;36m2\u001b[0m\u001b[0;34m]\u001b[0m\u001b[0;34m\u001b[0m\u001b[0;34m\u001b[0m\u001b[0m\n\u001b[0m\u001b[1;32m     39\u001b[0m \u001b[0;34m\u001b[0m\u001b[0m\n\u001b[1;32m     40\u001b[0m     \u001b[0;32mdef\u001b[0m \u001b[0mgetOrientation\u001b[0m\u001b[0;34m(\u001b[0m\u001b[0mself\u001b[0m\u001b[0;34m)\u001b[0m\u001b[0;34m:\u001b[0m\u001b[0;34m\u001b[0m\u001b[0;34m\u001b[0m\u001b[0m\n",
            "\u001b[0;31mTypeError\u001b[0m: 'NoneType' object is not subscriptable"
          ]
        }
      ],
      "source": [
        "visualize_grid(g_rand)"
      ]
    },
    {
      "cell_type": "code",
      "execution_count": null,
      "metadata": {
        "id": "2QutFL0G-FOW"
      },
      "outputs": [],
      "source": [
        "print(policy_score_learned)"
      ]
    },
    {
      "cell_type": "code",
      "execution_count": 35,
      "metadata": {
        "colab": {
          "base_uri": "https://localhost:8080/"
        },
        "id": "kGm56wrT-FOW",
        "outputId": "1834d4b0-1302-4559-ae67-6506cb0845c5"
      },
      "outputs": [
        {
          "output_type": "stream",
          "name": "stdout",
          "text": [
            "<class 'list'>\n",
            "<class 'list'>\n"
          ]
        }
      ],
      "source": [
        "print(type(g_rand.state_to_ind(g_rand.state)))\n",
        "print(type(g_rand.state))"
      ]
    }
  ],
  "metadata": {
    "colab": {
      "provenance": [],
      "include_colab_link": true
    },
    "kernelspec": {
      "display_name": "Python 3 (ipykernel)",
      "language": "python",
      "name": "python3"
    },
    "language_info": {
      "codemirror_mode": {
        "name": "ipython",
        "version": 3
      },
      "file_extension": ".py",
      "mimetype": "text/x-python",
      "name": "python",
      "nbconvert_exporter": "python",
      "pygments_lexer": "ipython3",
      "version": "3.9.13"
    }
  },
  "nbformat": 4,
  "nbformat_minor": 0
}