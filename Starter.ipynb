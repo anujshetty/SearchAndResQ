{
 "cells": [
  {
   "cell_type": "code",
   "execution_count": 4,
   "metadata": {},
   "outputs": [
    {
     "name": "stdout",
     "output_type": "stream",
     "text": [
      "10\n"
     ]
    },
    {
     "ename": "TypeError",
     "evalue": "'NoneType' object is not iterable",
     "output_type": "error",
     "traceback": [
      "\u001b[1;31m---------------------------------------------------------------------------\u001b[0m",
      "\u001b[1;31mTypeError\u001b[0m                                 Traceback (most recent call last)",
      "\u001b[1;32m<ipython-input-4-f0a9d8e9d891>\u001b[0m in \u001b[0;36m<module>\u001b[1;34m\u001b[0m\n\u001b[0;32m     71\u001b[0m \u001b[1;33m\u001b[0m\u001b[0m\n\u001b[0;32m     72\u001b[0m \u001b[0mrewards\u001b[0m\u001b[1;33m=\u001b[0m\u001b[1;33m[\u001b[0m\u001b[1;33m]\u001b[0m\u001b[1;33m\u001b[0m\u001b[1;33m\u001b[0m\u001b[0m\n\u001b[1;32m---> 73\u001b[1;33m \u001b[0mg\u001b[0m \u001b[1;33m=\u001b[0m \u001b[0mGridworld\u001b[0m\u001b[1;33m(\u001b[0m\u001b[1;33m)\u001b[0m\u001b[1;33m\u001b[0m\u001b[1;33m\u001b[0m\u001b[0m\n\u001b[0m\u001b[0;32m     74\u001b[0m \u001b[1;31m# simulate the agent's actions\u001b[0m\u001b[1;33m\u001b[0m\u001b[1;33m\u001b[0m\u001b[1;33m\u001b[0m\u001b[0m\n\u001b[0;32m     75\u001b[0m \u001b[1;32mfor\u001b[0m \u001b[0m_\u001b[0m \u001b[1;32min\u001b[0m \u001b[0mrange\u001b[0m\u001b[1;33m(\u001b[0m\u001b[1;36m20\u001b[0m\u001b[1;33m)\u001b[0m\u001b[1;33m:\u001b[0m\u001b[1;33m\u001b[0m\u001b[1;33m\u001b[0m\u001b[0m\n",
      "\u001b[1;32m<ipython-input-4-f0a9d8e9d891>\u001b[0m in \u001b[0;36m__init__\u001b[1;34m(self, gridworld_length, gridworld_width, num_obstacles, collisionReward, destinationReward, defaultReward, failChance, gamma)\u001b[0m\n\u001b[0;32m     13\u001b[0m         \u001b[0mself\u001b[0m\u001b[1;33m.\u001b[0m\u001b[0mactions\u001b[0m\u001b[1;33m=\u001b[0m \u001b[0mlist\u001b[0m\u001b[1;33m(\u001b[0m\u001b[0mself\u001b[0m\u001b[1;33m.\u001b[0m\u001b[0mds_actions\u001b[0m\u001b[1;33m.\u001b[0m\u001b[0mkeys\u001b[0m\u001b[1;33m(\u001b[0m\u001b[1;33m)\u001b[0m\u001b[1;33m)\u001b[0m\u001b[1;33m,\u001b[0m\u001b[1;33m\u001b[0m\u001b[1;33m\u001b[0m\u001b[0m\n\u001b[0;32m     14\u001b[0m         \u001b[0mself\u001b[0m\u001b[1;33m.\u001b[0m\u001b[0mnum_obstacles\u001b[0m \u001b[1;33m=\u001b[0m \u001b[0mnum_obstacles\u001b[0m\u001b[1;33m\u001b[0m\u001b[1;33m\u001b[0m\u001b[0m\n\u001b[1;32m---> 15\u001b[1;33m         \u001b[0mself\u001b[0m\u001b[1;33m.\u001b[0m\u001b[0msource\u001b[0m\u001b[1;33m,\u001b[0m \u001b[0mself\u001b[0m\u001b[1;33m.\u001b[0m\u001b[0mdestination\u001b[0m\u001b[1;33m,\u001b[0m \u001b[0mself\u001b[0m\u001b[1;33m.\u001b[0m\u001b[0mobstacle_positions\u001b[0m \u001b[1;33m=\u001b[0m \u001b[0mself\u001b[0m\u001b[1;33m.\u001b[0m\u001b[0minitiate_gridworld\u001b[0m\u001b[1;33m(\u001b[0m\u001b[1;33m)\u001b[0m\u001b[1;33m\u001b[0m\u001b[1;33m\u001b[0m\u001b[0m\n\u001b[0m\u001b[0;32m     16\u001b[0m         \u001b[0mself\u001b[0m\u001b[1;33m.\u001b[0m\u001b[0magent\u001b[0m \u001b[1;33m=\u001b[0m \u001b[0mself\u001b[0m\u001b[1;33m.\u001b[0m\u001b[0msource\u001b[0m\u001b[1;33m\u001b[0m\u001b[1;33m\u001b[0m\u001b[0m\n\u001b[0;32m     17\u001b[0m         \u001b[0mself\u001b[0m\u001b[1;33m.\u001b[0m\u001b[0mcollisionReward\u001b[0m \u001b[1;33m=\u001b[0m \u001b[0mcollisionReward\u001b[0m\u001b[1;33m\u001b[0m\u001b[1;33m\u001b[0m\u001b[0m\n",
      "\u001b[1;32m<ipython-input-4-f0a9d8e9d891>\u001b[0m in \u001b[0;36minitiate_gridworld\u001b[1;34m(self)\u001b[0m\n\u001b[0;32m     34\u001b[0m         \u001b[0mobstacle_positions\u001b[0m \u001b[1;33m=\u001b[0m \u001b[1;33m[\u001b[0m\u001b[1;33m]\u001b[0m\u001b[1;33m\u001b[0m\u001b[1;33m\u001b[0m\u001b[0m\n\u001b[0;32m     35\u001b[0m         \u001b[0mprint\u001b[0m\u001b[1;33m(\u001b[0m\u001b[0mself\u001b[0m\u001b[1;33m.\u001b[0m\u001b[0mnum_obstacles\u001b[0m\u001b[1;33m)\u001b[0m\u001b[1;33m\u001b[0m\u001b[1;33m\u001b[0m\u001b[0m\n\u001b[1;32m---> 36\u001b[1;33m         \u001b[1;32mwhile\u001b[0m \u001b[0mlen\u001b[0m\u001b[1;33m(\u001b[0m\u001b[0mlist\u001b[0m\u001b[1;33m(\u001b[0m\u001b[0mobstacle_positions\u001b[0m\u001b[1;33m)\u001b[0m\u001b[1;33m)\u001b[0m \u001b[1;33m<\u001b[0m \u001b[0mself\u001b[0m\u001b[1;33m.\u001b[0m\u001b[0mnum_obstacles\u001b[0m\u001b[1;33m:\u001b[0m\u001b[1;33m\u001b[0m\u001b[1;33m\u001b[0m\u001b[0m\n\u001b[0m\u001b[0;32m     37\u001b[0m             \u001b[0mposition\u001b[0m \u001b[1;33m=\u001b[0m \u001b[0mself\u001b[0m\u001b[1;33m.\u001b[0m\u001b[0mrandom_coord\u001b[0m\u001b[1;33m(\u001b[0m\u001b[1;33m)\u001b[0m\u001b[1;33m\u001b[0m\u001b[1;33m\u001b[0m\u001b[0m\n\u001b[0;32m     38\u001b[0m             \u001b[1;32mif\u001b[0m \u001b[0mposition\u001b[0m \u001b[1;33m!=\u001b[0m \u001b[0msource\u001b[0m \u001b[1;32mor\u001b[0m \u001b[0mposition\u001b[0m \u001b[1;33m!=\u001b[0m \u001b[0mdestination\u001b[0m\u001b[1;33m:\u001b[0m\u001b[1;33m\u001b[0m\u001b[1;33m\u001b[0m\u001b[0m\n",
      "\u001b[1;31mTypeError\u001b[0m: 'NoneType' object is not iterable"
     ]
    }
   ],
   "source": [
    "import numpy as np\n",
    "import random\n",
    "from operator import add\n",
    "\n",
    "# Define gridworld class\n",
    "class Gridworld:\n",
    "    def __init__(self, gridworld_length=2, gridworld_width=10, num_obstacles=10,\n",
    "                 collisionReward= -1, destinationReward= 10, defaultReward= 0, failChance= 0.1, gamma= 0.9):\n",
    "        self.gridworld_length = gridworld_length\n",
    "        self.gridworld_width = gridworld_width\n",
    "        self.grid = np.zeros((gridworld_length,gridworld_width))\n",
    "        self.ds_actions = {\"u\": [0,-1], \"d\": [0,1], \"l\": [-1,0], \"r\": [1,0]}\n",
    "        self.actions= list(self.ds_actions.keys()),\n",
    "        self.num_obstacles = num_obstacles\n",
    "        self.source, self.destination, self.obstacle_positions = self.initiate_gridworld()\n",
    "        self.agent = self.source\n",
    "        self.collisionReward = collisionReward\n",
    "        self.destinationReward = destinationReward\n",
    "        self.defaultReward = defaultReward\n",
    "        self.failChance = failChance\n",
    "        self.gamma = gamma\n",
    "\n",
    "    def random_coord(self):\n",
    "        return [random.randint(0, self.gridworld_length-1), random.randint(0, self.gridworld_width-1)]\n",
    "\n",
    "    def initiate_gridworld(self):\n",
    "        # add a random source and destination to the gridworld\n",
    "        source = self.random_coord()\n",
    "        destination = self.random_coord()\n",
    "        while destination == source:\n",
    "            destination = self.random_coord()\n",
    "\n",
    "        # add some random obstacles to the gridworld, making sure that the source and destination are not obstacles\n",
    "        obstacle_positions = []\n",
    "        print(self.num_obstacles)\n",
    "        while len(obstacle_positions) < self.num_obstacles:\n",
    "            position = self.random_coord()\n",
    "            if position != source or position != destination:\n",
    "                obstacle_positions = obstacle_positions.append(position)\n",
    "        print(source, destination, obstacle_positions)\n",
    "        return source, destination, obstacle_positions\n",
    "\n",
    "    def takeAction(self, a):\n",
    "        # take action with probability 0.1, stay in same state with probability 0.9\n",
    "        if random.random() < 1 - self.failChance:\n",
    "            print(self.agent, self.ds_actions[a])\n",
    "            new_agent = list(map(add, self.agent, self.ds_actions[a]))\n",
    "            print(new_agent)\n",
    "            # if collision\n",
    "            if new_agent[0] < 0 or new_agent[0] >= self.gridworld_length or \\\n",
    "                new_agent[1] < 0 or new_agent[1] >= self.gridworld_width or \\\n",
    "                new_agent in self.obstacle_positions:\n",
    "                return self.collisionReward\n",
    "            self.agent = new_agent\n",
    "            if new_agent == self.destination:\n",
    "                return self.destinationReward\n",
    "        return self.defaultReward\n",
    "\n",
    "    def print_gridworld(self):\n",
    "        for row in range(self.gridworld_length):\n",
    "            for col in range(self.gridworld_width):\n",
    "                if [row,col] in self.obstacle_positions:\n",
    "                    print('O', end=' ')\n",
    "                if [row,col] == self.destination:\n",
    "                    print('D', end=' ')\n",
    "                if [row, col] == self.agent:\n",
    "                    print('A', end=' ')\n",
    "                else:\n",
    "                    print('-', end=' ')\n",
    "            print()\n",
    "\n",
    "rewards=[]\n",
    "g = Gridworld()\n",
    "# simulate the agent's actions\n",
    "for _ in range(20):\n",
    "    g.print_gridworld()\n",
    "    # choose a random action\n",
    "    action = random.choice(g.actions[0])\n",
    "    print(f'Taking action: {action}')\n",
    "    # take the action and update the agent's position\n",
    "    reward = g.takeAction(action)\n",
    "    print(\"Action: \", action, \"Reward: \", reward)\n",
    "    rewards.append(reward)    \n"
   ]
  }
 ],
 "metadata": {
  "kernelspec": {
   "display_name": "base",
   "language": "python",
   "name": "python3"
  },
  "language_info": {
   "codemirror_mode": {
    "name": "ipython",
    "version": 3
   },
   "file_extension": ".py",
   "mimetype": "text/x-python",
   "name": "python",
   "nbconvert_exporter": "python",
   "pygments_lexer": "ipython3",
   "version": "3.8.8"
  },
  "orig_nbformat": 4,
  "vscode": {
   "interpreter": {
    "hash": "367c9dabc516f8325efd3bb2a1e95e4f40433a2c2639422a5c3513189fa409e1"
   }
  }
 },
 "nbformat": 4,
 "nbformat_minor": 2
}
